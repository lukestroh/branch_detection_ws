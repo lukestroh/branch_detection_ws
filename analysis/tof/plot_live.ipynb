{
 "cells": [
  {
   "cell_type": "code",
   "execution_count": 1,
   "metadata": {},
   "outputs": [],
   "source": [
    "# !/usr/bin/env python3\n",
    "import numpy as np\n",
    "import plot_plotly as p\n",
    "import serial_reader as sr\n",
    "import plotly.io as io\n",
    "import plotly.graph_objects as go\n",
    "import time\n",
    "\n",
    "from IPython.display import display"
   ]
  },
  {
   "cell_type": "code",
   "execution_count": 3,
   "metadata": {},
   "outputs": [
    {
     "data": {
      "application/vnd.jupyter.widget-view+json": {
       "model_id": "b8f19367a0904a158a498f9ec06ce76d",
       "version_major": 2,
       "version_minor": 0
      },
      "text/plain": [
       "FigureWidget({\n",
       "    'data': [{'type': 'heatmap',\n",
       "              'uid': '9c53e74a-e600-4133-bb93-bc3718dda6b8',\n",
       "              'z': array([[0., 0., 0., 0., 0., 0., 0., 0.],\n",
       "                          [0., 0., 0., 0., 0., 0., 0., 0.],\n",
       "                          [0., 0., 0., 0., 0., 0., 0., 0.],\n",
       "                          [0., 0., 0., 0., 0., 0., 0., 0.],\n",
       "                          [0., 0., 0., 0., 0., 0., 0., 0.],\n",
       "                          [0., 0., 0., 0., 0., 0., 0., 0.],\n",
       "                          [0., 0., 0., 0., 0., 0., 0., 0.],\n",
       "                          [0., 0., 0., 0., 0., 0., 0., 0.]])}],\n",
       "    'layout': {'template': '...'}\n",
       "})"
      ]
     },
     "metadata": {},
     "output_type": "display_data"
    }
   ],
   "source": [
    "ser = sr.create_connection()\n",
    "tof_array_size = (8,8)\n",
    "zone_data = np.zeros(tof_array_size, dtype=int)\n",
    "\n",
    "fig = p.create_fig(tof_array_size)\n",
    "widget = go.FigureWidget(fig)\n",
    "display(widget)"
   ]
  },
  {
   "cell_type": "markdown",
   "metadata": {},
   "source": []
  },
  {
   "cell_type": "code",
   "execution_count": 4,
   "metadata": {},
   "outputs": [
    {
     "ename": "KeyError",
     "evalue": "'zone'",
     "output_type": "error",
     "traceback": [
      "\u001b[0;31m---------------------------------------------------------------------------\u001b[0m",
      "\u001b[0;31mKeyError\u001b[0m                                  Traceback (most recent call last)",
      "Cell \u001b[0;32mIn[4], line 9\u001b[0m\n\u001b[1;32m      6\u001b[0m \u001b[38;5;28;01mif\u001b[39;00m parsed \u001b[38;5;129;01mis\u001b[39;00m \u001b[38;5;28;01mNone\u001b[39;00m:\n\u001b[1;32m      7\u001b[0m     \u001b[38;5;28;01mcontinue\u001b[39;00m\n\u001b[0;32m----> 9\u001b[0m zone_data \u001b[38;5;241m=\u001b[39m p\u001b[38;5;241m.\u001b[39mupdate_data_arr(data\u001b[38;5;241m=\u001b[39mzone_data, idx\u001b[38;5;241m=\u001b[39m\u001b[43mparsed\u001b[49m\u001b[43m[\u001b[49m\u001b[38;5;124;43m\"\u001b[39;49m\u001b[38;5;124;43mzone\u001b[39;49m\u001b[38;5;124;43m\"\u001b[39;49m\u001b[43m]\u001b[49m, value\u001b[38;5;241m=\u001b[39mparsed[\u001b[38;5;124m\"\u001b[39m\u001b[38;5;124mdistance\u001b[39m\u001b[38;5;124m\"\u001b[39m])\n\u001b[1;32m     11\u001b[0m fig \u001b[38;5;241m=\u001b[39m p\u001b[38;5;241m.\u001b[39mupdate_fig(data\u001b[38;5;241m=\u001b[39mzone_data)\n\u001b[1;32m     13\u001b[0m \u001b[38;5;28;01mwith\u001b[39;00m widget\u001b[38;5;241m.\u001b[39mbatch_update():\n",
      "\u001b[0;31mKeyError\u001b[0m: 'zone'"
     ]
    }
   ],
   "source": [
    "while True:\n",
    "    stream_data = sr.read_stream(ser)\n",
    "    if stream_data is None:\n",
    "        continue\n",
    "    parsed = sr.parse_line(stream_data)\n",
    "    if parsed is None:\n",
    "        continue\n",
    "\n",
    "    zone_data = p.update_data_arr(data=zone_data, idx=parsed[\"zone\"], value=parsed[\"distance\"])\n",
    "\n",
    "    fig = p.update_fig(data=zone_data)\n",
    "\n",
    "    with widget.batch_update():\n",
    "        widget.add_heatmap(\n",
    "            z=zone_data\n",
    "        )\n",
    "    time.sleep(0.01)\n",
    "\n",
    "    # io.show(widget)"
   ]
  },
  {
   "cell_type": "code",
   "execution_count": null,
   "metadata": {},
   "outputs": [],
   "source": []
  }
 ],
 "metadata": {
  "kernelspec": {
   "display_name": "Python 3 (ipykernel)",
   "language": "python",
   "name": "python3"
  },
  "language_info": {
   "codemirror_mode": {
    "name": "ipython",
    "version": 3
   },
   "file_extension": ".py",
   "mimetype": "text/x-python",
   "name": "python",
   "nbconvert_exporter": "python",
   "pygments_lexer": "ipython3",
   "version": "3.10.12"
  }
 },
 "nbformat": 4,
 "nbformat_minor": 4
}
